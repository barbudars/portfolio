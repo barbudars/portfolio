{
 "cells": [
  {
   "cell_type": "markdown",
   "metadata": {},
   "source": [
    "## Селектор для ИБП ##"
   ]
  },
  {
   "cell_type": "code",
   "execution_count": 3,
   "metadata": {},
   "outputs": [
    {
     "name": "stderr",
     "output_type": "stream",
     "text": [
      "WARNING:selenium.webdriver.common.selenium_manager:The chromedriver version (130.0.6723.116) detected in PATH at C:\\Users\\r.barannikov\\chromedriver-win64\\chromedriver.exe might not be compatible with the detected chrome version (131.0.6778.266); currently, chromedriver 131.0.6778.264 is recommended for chrome 131.*, so it is advised to delete the driver in PATH and retry\n",
      "INFO:__main__:Найдено наименований: 48, цен: 48\n",
      "INFO:__main__:Всего обработано товаров: 48\n"
     ]
    },
    {
     "name": "stdout",
     "output_type": "stream",
     "text": [
      "Страница 1 обработана. Получено 48 товаров.\n"
     ]
    },
    {
     "name": "stderr",
     "output_type": "stream",
     "text": [
      "INFO:__main__:Найдено наименований: 48, цен: 48\n",
      "INFO:__main__:Всего обработано товаров: 48\n"
     ]
    },
    {
     "name": "stdout",
     "output_type": "stream",
     "text": [
      "Страница 2 обработана. Получено 48 товаров.\n"
     ]
    },
    {
     "name": "stderr",
     "output_type": "stream",
     "text": [
      "INFO:__main__:Найдено наименований: 48, цен: 48\n",
      "INFO:__main__:Всего обработано товаров: 48\n"
     ]
    },
    {
     "name": "stdout",
     "output_type": "stream",
     "text": [
      "Страница 3 обработана. Получено 48 товаров.\n"
     ]
    },
    {
     "name": "stderr",
     "output_type": "stream",
     "text": [
      "INFO:__main__:Найдено наименований: 48, цен: 48\n",
      "INFO:__main__:Всего обработано товаров: 48\n"
     ]
    },
    {
     "name": "stdout",
     "output_type": "stream",
     "text": [
      "Страница 4 обработана. Получено 48 товаров.\n"
     ]
    },
    {
     "name": "stderr",
     "output_type": "stream",
     "text": [
      "INFO:__main__:Найдено наименований: 48, цен: 48\n",
      "INFO:__main__:Всего обработано товаров: 48\n"
     ]
    },
    {
     "name": "stdout",
     "output_type": "stream",
     "text": [
      "Страница 5 обработана. Получено 48 товаров.\n"
     ]
    },
    {
     "name": "stderr",
     "output_type": "stream",
     "text": [
      "INFO:__main__:Найдено наименований: 48, цен: 48\n",
      "INFO:__main__:Всего обработано товаров: 48\n"
     ]
    },
    {
     "name": "stdout",
     "output_type": "stream",
     "text": [
      "Страница 6 обработана. Получено 48 товаров.\n"
     ]
    },
    {
     "name": "stderr",
     "output_type": "stream",
     "text": [
      "INFO:__main__:Найдено наименований: 48, цен: 48\n",
      "INFO:__main__:Всего обработано товаров: 48\n"
     ]
    },
    {
     "name": "stdout",
     "output_type": "stream",
     "text": [
      "Страница 7 обработана. Получено 48 товаров.\n"
     ]
    },
    {
     "name": "stderr",
     "output_type": "stream",
     "text": [
      "INFO:__main__:Найдено наименований: 48, цен: 48\n",
      "INFO:__main__:Всего обработано товаров: 48\n"
     ]
    },
    {
     "name": "stdout",
     "output_type": "stream",
     "text": [
      "Страница 8 обработана. Получено 48 товаров.\n"
     ]
    },
    {
     "name": "stderr",
     "output_type": "stream",
     "text": [
      "INFO:__main__:Найдено наименований: 48, цен: 48\n",
      "INFO:__main__:Всего обработано товаров: 48\n"
     ]
    },
    {
     "name": "stdout",
     "output_type": "stream",
     "text": [
      "Страница 9 обработана. Получено 48 товаров.\n"
     ]
    },
    {
     "name": "stderr",
     "output_type": "stream",
     "text": [
      "INFO:__main__:Найдено наименований: 31, цен: 31\n",
      "INFO:__main__:Всего обработано товаров: 31\n"
     ]
    },
    {
     "name": "stdout",
     "output_type": "stream",
     "text": [
      "Страница 10 обработана. Получено 31 товаров.\n"
     ]
    },
    {
     "name": "stderr",
     "output_type": "stream",
     "text": [
      "ERROR:__main__:Превышено время ожидания загрузки элементов\n"
     ]
    },
    {
     "name": "stdout",
     "output_type": "stream",
     "text": [
      "Страница 11 обработана. Получено 0 товаров.\n",
      "Данные успешно экспортированы в файл output.xlsx. Всего обработано 463 товаров.\n"
     ]
    }
   ],
   "source": [
    "# Импорт необходимых модулей\n",
    "from selenium import webdriver\n",
    "from selenium.webdriver.common.by import By\n",
    "from selenium.webdriver.chrome.options import Options\n",
    "from selenium.webdriver.support.ui import WebDriverWait\n",
    "from selenium.webdriver.support import expected_conditions as EC\n",
    "from selenium.common.exceptions import TimeoutException, NoSuchElementException, StaleElementReferenceException\n",
    "import pandas as pd\n",
    "import time\n",
    "import random\n",
    "import logging\n",
    "\n",
    "# Настройка логирования\n",
    "logging.basicConfig(level=logging.INFO)\n",
    "logger = logging.getLogger(__name__)\n",
    "\n",
    "def setup_driver():\n",
    "   \"\"\"\n",
    "   Настройка и запуск драйвера Chrome.\n",
    "\n",
    "   Возвращает:\n",
    "   webdriver.Chrome: экземпляр драйвера Chrome с настроенными параметрами.\n",
    "   \"\"\"\n",
    "   options = Options()\n",
    "   options.add_argument(\"--headless\")\n",
    "   options.add_argument(\"--no-sandbox\")\n",
    "   options.add_argument(\"--disable-dev-shm-usage\")\n",
    "   options.add_argument(\"--disable-gpu\")\n",
    "   options.add_argument(\"--window-size=1920x1080\")\n",
    "   options.add_argument(\n",
    "       \"user-agent=Mozilla/5.0 (Windows NT 10.0; Win64; x64) \"\n",
    "       \"AppleWebKit/537.36 (KHTML, like Gecko) Chrome/90.0.4430.212 Safari/537.36\"\n",
    "   )\n",
    "   driver = webdriver.Chrome(options=options)\n",
    "   driver.implicitly_wait(10)\n",
    "   return driver\n",
    "\n",
    "\n",
    "def scroll_and_load(driver):\n",
    "    \"\"\"\n",
    "    Прокручивает страницу несколько раз для загрузки всех динамических элементов.\n",
    "\n",
    "    Параметры:\n",
    "    driver (webdriver.Chrome): экземпляр драйвера Chrome.\n",
    "    \"\"\"\n",
    "    for _ in range(3):\n",
    "        driver.execute_script(\"window.scrollTo(0, document.body.scrollHeight);\")\n",
    "        time.sleep(random.uniform(2, 4))\n",
    "\n",
    "def extract_all_products_info(driver):\n",
    "    \"\"\"\n",
    "    Извлекает информацию о всех продуктах на странице.\n",
    "\n",
    "    Параметры:\n",
    "    driver (webdriver.Chrome): экземпляр драйвера Chrome.\n",
    "\n",
    "    Возвращает:\n",
    "    list: список словарей, каждый из которых содержит информацию о продукте.\n",
    "    \"\"\"\n",
    "    products_info = []\n",
    "    wait = WebDriverWait(driver, 20)\n",
    "    \n",
    "    try:\n",
    "        wait.until(EC.presence_of_element_located((By.CSS_SELECTOR, \"a.app-catalog-9gnskf.e1259i3g0\")))\n",
    "        wait.until(EC.presence_of_element_located((By.CSS_SELECTOR, \"span.e1j9birj0.e106ikdt0.app-catalog-56qww8.e1gjr6xo0\")))\n",
    "        \n",
    "        name_elements = driver.find_elements(By.CSS_SELECTOR, \"a.app-catalog-9gnskf.e1259i3g0\")\n",
    "        price_elements = driver.find_elements(By.CSS_SELECTOR, \"span.e1j9birj0.e106ikdt0.app-catalog-56qww8.e1gjr6xo0\")\n",
    "\n",
    "        logger.info(f\"Найдено наименований: {len(name_elements)}, цен: {len(price_elements)}\")\n",
    "\n",
    "        for i in range(max(len(name_elements), len(price_elements))):\n",
    "            try:\n",
    "                name = name_elements[i].text.strip() if i < len(name_elements) else \"Название не указано\"\n",
    "                price = price_elements[i].text.strip() if i < len(price_elements) else \"Цена не указана\"\n",
    "                products_info.append({\"Наименование\": name, \"Цена\": price})\n",
    "                logger.debug(f\"Добавлен товар: {name} - {price}\")\n",
    "            except (StaleElementReferenceException, IndexError) as e:\n",
    "                logger.warning(f\"Ошибка при обработке элемента {i}: {e}\")\n",
    "\n",
    "        logger.info(f\"Всего обработано товаров: {len(products_info)}\")\n",
    "\n",
    "    except TimeoutException:\n",
    "        logger.error(\"Превышено время ожидания загрузки элементов\")\n",
    "    except NoSuchElementException as e:\n",
    "        logger.error(f\"Ошибка при извлечении данных: {e}\")\n",
    "    except Exception as e:\n",
    "        logger.error(f\"Произошла непредвиденная ошибка: {e}\")\n",
    "\n",
    "    return products_info\n",
    "\n",
    "def scrape_page(driver, url, page_number):\n",
    "    \"\"\"\n",
    "    Парсит отдельную страницу.\n",
    "\n",
    "    Параметры:\n",
    "    driver (webdriver.Chrome): экземпляр драйвера Chrome.\n",
    "    url (str): URL страницы для парсинга.\n",
    "    page_number (int): номер страницы.\n",
    "\n",
    "    Возвращает:\n",
    "    list: список словарей, каждый из которых содержит информацию о продукте на странице.\n",
    "    \"\"\"\n",
    "    driver.get(url)\n",
    "    scroll_and_load(driver)\n",
    "    return extract_all_products_info(driver)\n",
    "\n",
    "def main():\n",
    "    \"\"\"\n",
    "    Основная функция для выполнения скрапинга.\n",
    "    \"\"\"\n",
    "    driver = setup_driver()\n",
    "    base_url = input(\"Введите базовый URL сайта: \")\n",
    "    total_pages = int(input(\"Введите количество страниц для обработки: \"))\n",
    "    data = []\n",
    "\n",
    "    try:\n",
    "        for page_number in range(1, total_pages + 1):\n",
    "            url = f\"{base_url}&p={page_number}\"\n",
    "            page_data = scrape_page(driver, url, page_number)\n",
    "            data.extend(page_data)\n",
    "            print(f\"Страница {page_number} обработана. Получено {len(page_data)} товаров.\")\n",
    "            time.sleep(random.uniform(1, 3))\n",
    "    finally:\n",
    "        driver.quit()\n",
    "\n",
    "    df = pd.DataFrame(data)\n",
    "    df.to_excel(\"output.xlsx\", index=False)\n",
    "    print(f\"Данные успешно экспортированы в файл output.xlsx. Всего обработано {len(data)} товаров.\")\n",
    "\n",
    "if __name__ == \"__main__\":\n",
    "    main()"
   ]
  },
  {
   "cell_type": "markdown",
   "metadata": {},
   "source": [
    "## Селектор для картриджей ##"
   ]
  },
  {
   "cell_type": "code",
   "execution_count": 1,
   "metadata": {},
   "outputs": [
    {
     "name": "stderr",
     "output_type": "stream",
     "text": [
      "WARNING:selenium.webdriver.common.selenium_manager:The chromedriver version (130.0.6723.116) detected in PATH at C:\\Users\\r.barannikov\\chromedriver-win64\\chromedriver.exe might not be compatible with the detected chrome version (131.0.6778.265); currently, chromedriver 131.0.6778.264 is recommended for chrome 131.*, so it is advised to delete the driver in PATH and retry\n",
      "INFO:__main__:Найдено наименований: 58, цен: 58\n",
      "INFO:__main__:Всего обработано товаров: 58\n"
     ]
    },
    {
     "name": "stdout",
     "output_type": "stream",
     "text": [
      "Страница 1 обработана. Получено 58 товаров.\n"
     ]
    },
    {
     "name": "stderr",
     "output_type": "stream",
     "text": [
      "INFO:__main__:Найдено наименований: 58, цен: 58\n",
      "INFO:__main__:Всего обработано товаров: 58\n"
     ]
    },
    {
     "name": "stdout",
     "output_type": "stream",
     "text": [
      "Страница 2 обработана. Получено 58 товаров.\n"
     ]
    },
    {
     "name": "stderr",
     "output_type": "stream",
     "text": [
      "INFO:__main__:Найдено наименований: 58, цен: 58\n",
      "INFO:__main__:Всего обработано товаров: 58\n"
     ]
    },
    {
     "name": "stdout",
     "output_type": "stream",
     "text": [
      "Страница 3 обработана. Получено 58 товаров.\n"
     ]
    },
    {
     "name": "stderr",
     "output_type": "stream",
     "text": [
      "INFO:__main__:Найдено наименований: 58, цен: 58\n",
      "INFO:__main__:Всего обработано товаров: 58\n"
     ]
    },
    {
     "name": "stdout",
     "output_type": "stream",
     "text": [
      "Страница 4 обработана. Получено 58 товаров.\n"
     ]
    },
    {
     "name": "stderr",
     "output_type": "stream",
     "text": [
      "INFO:__main__:Найдено наименований: 58, цен: 58\n",
      "INFO:__main__:Всего обработано товаров: 58\n"
     ]
    },
    {
     "name": "stdout",
     "output_type": "stream",
     "text": [
      "Страница 5 обработана. Получено 58 товаров.\n"
     ]
    },
    {
     "name": "stderr",
     "output_type": "stream",
     "text": [
      "INFO:__main__:Найдено наименований: 58, цен: 58\n",
      "INFO:__main__:Всего обработано товаров: 58\n"
     ]
    },
    {
     "name": "stdout",
     "output_type": "stream",
     "text": [
      "Страница 6 обработана. Получено 58 товаров.\n"
     ]
    },
    {
     "name": "stderr",
     "output_type": "stream",
     "text": [
      "INFO:__main__:Найдено наименований: 58, цен: 58\n",
      "INFO:__main__:Всего обработано товаров: 58\n"
     ]
    },
    {
     "name": "stdout",
     "output_type": "stream",
     "text": [
      "Страница 7 обработана. Получено 58 товаров.\n"
     ]
    },
    {
     "name": "stderr",
     "output_type": "stream",
     "text": [
      "INFO:__main__:Найдено наименований: 58, цен: 58\n",
      "INFO:__main__:Всего обработано товаров: 58\n"
     ]
    },
    {
     "name": "stdout",
     "output_type": "stream",
     "text": [
      "Страница 8 обработана. Получено 58 товаров.\n"
     ]
    },
    {
     "name": "stderr",
     "output_type": "stream",
     "text": [
      "INFO:__main__:Найдено наименований: 58, цен: 58\n",
      "INFO:__main__:Всего обработано товаров: 58\n"
     ]
    },
    {
     "name": "stdout",
     "output_type": "stream",
     "text": [
      "Страница 9 обработана. Получено 58 товаров.\n"
     ]
    },
    {
     "name": "stderr",
     "output_type": "stream",
     "text": [
      "INFO:__main__:Найдено наименований: 58, цен: 58\n",
      "INFO:__main__:Всего обработано товаров: 58\n"
     ]
    },
    {
     "name": "stdout",
     "output_type": "stream",
     "text": [
      "Страница 10 обработана. Получено 58 товаров.\n"
     ]
    },
    {
     "name": "stderr",
     "output_type": "stream",
     "text": [
      "INFO:__main__:Найдено наименований: 58, цен: 58\n",
      "INFO:__main__:Всего обработано товаров: 58\n"
     ]
    },
    {
     "name": "stdout",
     "output_type": "stream",
     "text": [
      "Страница 11 обработана. Получено 58 товаров.\n"
     ]
    },
    {
     "name": "stderr",
     "output_type": "stream",
     "text": [
      "INFO:__main__:Найдено наименований: 58, цен: 58\n",
      "INFO:__main__:Всего обработано товаров: 58\n"
     ]
    },
    {
     "name": "stdout",
     "output_type": "stream",
     "text": [
      "Страница 12 обработана. Получено 58 товаров.\n"
     ]
    },
    {
     "name": "stderr",
     "output_type": "stream",
     "text": [
      "INFO:__main__:Найдено наименований: 58, цен: 58\n",
      "INFO:__main__:Всего обработано товаров: 58\n"
     ]
    },
    {
     "name": "stdout",
     "output_type": "stream",
     "text": [
      "Страница 13 обработана. Получено 58 товаров.\n"
     ]
    },
    {
     "name": "stderr",
     "output_type": "stream",
     "text": [
      "INFO:__main__:Найдено наименований: 58, цен: 58\n",
      "INFO:__main__:Всего обработано товаров: 58\n"
     ]
    },
    {
     "name": "stdout",
     "output_type": "stream",
     "text": [
      "Страница 14 обработана. Получено 58 товаров.\n"
     ]
    },
    {
     "name": "stderr",
     "output_type": "stream",
     "text": [
      "INFO:__main__:Найдено наименований: 58, цен: 58\n",
      "INFO:__main__:Всего обработано товаров: 58\n"
     ]
    },
    {
     "name": "stdout",
     "output_type": "stream",
     "text": [
      "Страница 15 обработана. Получено 58 товаров.\n"
     ]
    },
    {
     "name": "stderr",
     "output_type": "stream",
     "text": [
      "INFO:__main__:Найдено наименований: 58, цен: 58\n",
      "INFO:__main__:Всего обработано товаров: 58\n"
     ]
    },
    {
     "name": "stdout",
     "output_type": "stream",
     "text": [
      "Страница 16 обработана. Получено 58 товаров.\n"
     ]
    },
    {
     "name": "stderr",
     "output_type": "stream",
     "text": [
      "INFO:__main__:Найдено наименований: 58, цен: 58\n",
      "INFO:__main__:Всего обработано товаров: 58\n"
     ]
    },
    {
     "name": "stdout",
     "output_type": "stream",
     "text": [
      "Страница 17 обработана. Получено 58 товаров.\n"
     ]
    },
    {
     "name": "stderr",
     "output_type": "stream",
     "text": [
      "INFO:__main__:Найдено наименований: 58, цен: 58\n",
      "INFO:__main__:Всего обработано товаров: 58\n"
     ]
    },
    {
     "name": "stdout",
     "output_type": "stream",
     "text": [
      "Страница 18 обработана. Получено 58 товаров.\n"
     ]
    },
    {
     "name": "stderr",
     "output_type": "stream",
     "text": [
      "INFO:__main__:Найдено наименований: 57, цен: 57\n",
      "INFO:__main__:Всего обработано товаров: 57\n"
     ]
    },
    {
     "name": "stdout",
     "output_type": "stream",
     "text": [
      "Страница 19 обработана. Получено 57 товаров.\n"
     ]
    },
    {
     "name": "stderr",
     "output_type": "stream",
     "text": [
      "INFO:__main__:Найдено наименований: 38, цен: 38\n",
      "INFO:__main__:Всего обработано товаров: 38\n"
     ]
    },
    {
     "name": "stdout",
     "output_type": "stream",
     "text": [
      "Страница 20 обработана. Получено 38 товаров.\n"
     ]
    },
    {
     "name": "stderr",
     "output_type": "stream",
     "text": [
      "INFO:__main__:Найдено наименований: 10, цен: 10\n",
      "INFO:__main__:Всего обработано товаров: 10\n"
     ]
    },
    {
     "name": "stdout",
     "output_type": "stream",
     "text": [
      "Страница 21 обработана. Получено 10 товаров.\n",
      "Данные успешно экспортированы в файл output.xlsx. Всего обработано 1149 товаров.\n"
     ]
    }
   ],
   "source": [
    "from selenium import webdriver\n",
    "from selenium.webdriver.common.by import By\n",
    "from selenium.webdriver.chrome.options import Options\n",
    "from selenium.webdriver.support.ui import WebDriverWait\n",
    "from selenium.webdriver.support import expected_conditions as EC\n",
    "from selenium.common.exceptions import TimeoutException, NoSuchElementException, StaleElementReferenceException\n",
    "import pandas as pd\n",
    "import time\n",
    "import random\n",
    "import logging\n",
    "\n",
    "# Настройка логирования\n",
    "logging.basicConfig(level=logging.INFO)\n",
    "logger = logging.getLogger(__name__)\n",
    "\n",
    "def setup_driver():\n",
    "    \"\"\"\n",
    "    Настройка и запуск драйвера Chrome.\n",
    "\n",
    "    Возвращает:\n",
    "    webdriver.Chrome: экземпляр драйвера Chrome с настроенными параметрами.\n",
    "    \"\"\"\n",
    "    options = Options()\n",
    "    options.add_argument(\"--headless\")\n",
    "    options.add_argument(\"--no-sandbox\")\n",
    "    options.add_argument(\"--disable-dev-shm-usage\")\n",
    "    options.add_argument(\"--disable-gpu\")\n",
    "    options.add_argument(\"--window-size=1920x1080\")\n",
    "    options.add_argument(\n",
    "        \"user-agent=Mozilla/5.0 (Windows NT 10.0; Win64; x64) \"\n",
    "        \"AppleWebKit/537.36 (KHTML, like Gecko) Chrome/90.0.4430.212 Safari/537.36\"\n",
    "    )\n",
    "    return webdriver.Chrome(options=options)\n",
    "\n",
    "def scroll_and_load(driver):\n",
    "    \"\"\"\n",
    "    Прокручивает страницу несколько раз для загрузки всех динамических элементов.\n",
    "\n",
    "    Параметры:\n",
    "    driver (webdriver.Chrome): экземпляр драйвера Chrome.\n",
    "    \"\"\"\n",
    "    for _ in range(3):\n",
    "        driver.execute_script(\"window.scrollTo(0, document.body.scrollHeight);\")\n",
    "        time.sleep(random.uniform(2, 4))\n",
    "\n",
    "def extract_all_products_info(driver):\n",
    "    \"\"\"\n",
    "    Извлекает информацию о всех продуктах на странице.\n",
    "\n",
    "    Параметры:\n",
    "    driver (webdriver.Chrome): экземпляр драйвера Chrome.\n",
    "\n",
    "    Возвращает:\n",
    "    list: список словарей, каждый из которых содержит информацию о продукте.\n",
    "    \"\"\"\n",
    "    products_info = []\n",
    "    wait = WebDriverWait(driver, 10)\n",
    "    \n",
    "    try:\n",
    "        wait.until(EC.presence_of_element_located((By.CSS_SELECTOR, \"a.app-catalog-9gnskf.e1259i3g0\")))\n",
    "        wait.until(EC.presence_of_element_located((By.CSS_SELECTOR, \"button > span > div.app-catalog-14zo1we.e1yq4jy70 > span > span > span.e1j9birj0.e106ikdt0.app-catalog-56qww8.e1gjr6xo0\")))\n",
    "        \n",
    "        name_elements = driver.find_elements(By.CSS_SELECTOR, \"a.app-catalog-9gnskf.e1259i3g0\")\n",
    "        price_elements = driver.find_elements(By.CSS_SELECTOR, \"button > span > div.app-catalog-14zo1we.e1yq4jy70 > span > span > span.e1j9birj0.e106ikdt0.app-catalog-56qww8.e1gjr6xo0\")\n",
    "\n",
    "        logger.info(f\"Найдено наименований: {len(name_elements)}, цен: {len(price_elements)}\")\n",
    "\n",
    "        for i in range(max(len(name_elements), len(price_elements))):\n",
    "            try:\n",
    "                name = name_elements[i].text.strip() if i < len(name_elements) else \"Название не указано\"\n",
    "                price = price_elements[i].text.strip() if i < len(price_elements) else \"Цена не указана\"\n",
    "                products_info.append({\"Наименование\": name, \"Цена\": price})\n",
    "                logger.debug(f\"Добавлен товар: {name} - {price}\")\n",
    "            except (StaleElementReferenceException, IndexError) as e:\n",
    "                logger.warning(f\"Ошибка при обработке элемента {i}: {e}\")\n",
    "\n",
    "        logger.info(f\"Всего обработано товаров: {len(products_info)}\")\n",
    "\n",
    "    except TimeoutException:\n",
    "        logger.error(\"Превышено время ожидания загрузки элементов\")\n",
    "    except NoSuchElementException as e:\n",
    "        logger.error(f\"Ошибка при извлечении данных: {e}\")\n",
    "    except Exception as e:\n",
    "        logger.error(f\"Произошла непредвиденная ошибка: {e}\")\n",
    "\n",
    "    return products_info\n",
    "\n",
    "def scrape_page(driver, url, page_number):\n",
    "    \"\"\"\n",
    "    Парсит отдельную страницу.\n",
    "\n",
    "    Параметры:\n",
    "    driver (webdriver.Chrome): экземпляр драйвера Chrome.\n",
    "    url (str): URL страницы для парсинга.\n",
    "    page_number (int): номер страницы.\n",
    "\n",
    "    Возвращает:\n",
    "    list: список словарей, каждый из которых содержит информацию о продукте на странице.\n",
    "    \"\"\"\n",
    "    driver.get(url)\n",
    "    scroll_and_load(driver)\n",
    "    return extract_all_products_info(driver)\n",
    "\n",
    "def main():\n",
    "    \"\"\"\n",
    "    Основная функция для выполнения скрапинга.\n",
    "    \"\"\"\n",
    "    driver = setup_driver()\n",
    "    base_url = input(\"Введите базовый URL сайта: \")\n",
    "    total_pages = int(input(\"Введите количество страниц для обработки: \"))\n",
    "    data = []\n",
    "\n",
    "    try:\n",
    "        for page_number in range(1, total_pages + 1):\n",
    "            url = f\"{base_url}&p={page_number}\"\n",
    "            page_data = scrape_page(driver, url, page_number)\n",
    "            data.extend(page_data)\n",
    "            print(f\"Страница {page_number} обработана. Получено {len(page_data)} товаров.\")\n",
    "            time.sleep(random.uniform(1, 3))\n",
    "    finally:\n",
    "        driver.quit()\n",
    "\n",
    "    df = pd.DataFrame(data)\n",
    "    df.to_excel(\"output.xlsx\", index=False)\n",
    "    print(f\"Данные успешно экспортированы в файл output.xlsx. Всего обработано {len(data)} товаров.\")\n",
    "\n",
    "if __name__ == \"__main__\":\n",
    "    main()"
   ]
  }
 ],
 "metadata": {
  "kernelspec": {
   "display_name": "base",
   "language": "python",
   "name": "python3"
  },
  "language_info": {
   "codemirror_mode": {
    "name": "ipython",
    "version": 3
   },
   "file_extension": ".py",
   "mimetype": "text/x-python",
   "name": "python",
   "nbconvert_exporter": "python",
   "pygments_lexer": "ipython3",
   "version": "3.12.7"
  }
 },
 "nbformat": 4,
 "nbformat_minor": 4
}
