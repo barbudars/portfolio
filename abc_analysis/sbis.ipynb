{
 "cells": [
  {
   "cell_type": "code",
   "execution_count": null,
   "metadata": {},
   "outputs": [
    {
     "name": "stderr",
     "output_type": "stream",
     "text": [
      "C:\\Users\\r.barannikov\\AppData\\Local\\Temp\\ipykernel_23152\\3990792480.py:74: FutureWarning: Series.__getitem__ treating keys as positions is deprecated. In a future version, integer keys will always be treated as labels (consistent with DataFrame behavior). To access a value by position, use `ser.iloc[pos]`\n",
      "  date = records.iloc[0][\"Дата\"][1]\n"
     ]
    },
    {
     "name": "stdout",
     "output_type": "stream",
     "text": [
      "366.csv Обработан!\n"
     ]
    },
    {
     "name": "stderr",
     "output_type": "stream",
     "text": [
      "C:\\Users\\r.barannikov\\AppData\\Local\\Temp\\ipykernel_23152\\3990792480.py:74: FutureWarning: Series.__getitem__ treating keys as positions is deprecated. In a future version, integer keys will always be treated as labels (consistent with DataFrame behavior). To access a value by position, use `ser.iloc[pos]`\n",
      "  date = records.iloc[0][\"Дата\"][1]\n"
     ]
    },
    {
     "name": "stdout",
     "output_type": "stream",
     "text": [
      "А123.csv Обработан!\n"
     ]
    }
   ],
   "source": [
    "import os\n",
    "from datetime import datetime\n",
    "import pandas as pd\n",
    "\n",
    "# Создание папки для сохранения результатов\n",
    "result_path = f'Результат/{datetime.now().strftime(\"%Y-%m-%d\")}/'\n",
    "if not os.path.exists(result_path):\n",
    "    os.makedirs(result_path)\n",
    "\n",
    "# Определение названий столбцов для данных из СБИС\n",
    "sbis_names = [\n",
    "    \"Дата\", \"Номер\", \"Сумма\", \"Статус\", \"Примечание\", \"Комментарий\", \"Контрагент\", \"ИНН/КПП\", \"Организация\", \n",
    "    \"ИНН/КПП\", \"Тип документа\", \"Имя файла\", \"Дата\", \"Номер 1\", \"Сумма 1\", \"Сумма НДС\", \"Ответственный\", \n",
    "    \"Подразделение\", \"Код\", \"Дата\", \"Время\", \"Тип пакета\", \"Идентификатор пакета\", \"Запущено в обработку\", \n",
    "    \"Получено контрагентом\", \"Завершено\", \"Увеличение суммы\", \"НДC\", \"Уменьшение суммы\", \"НДС\"\n",
    "]\n",
    "\n",
    "# Загрузка данных из СБИС\n",
    "sbis_folder = \"Входящие\"\n",
    "sbis_files = os.listdir(sbis_folder)\n",
    "\n",
    "# Чтение всех CSV-файлов из папки СБИС и объединение их в один DataFrame\n",
    "dfs = []\n",
    "for file in sbis_files:\n",
    "    if 'csv' not in file:\n",
    "        continue\n",
    "    df = pd.read_csv(os.path.join(sbis_folder, file), skiprows=1, sep=\";\", encoding=\"windows-1251\", header=None)\n",
    "    dfs.append(df)\n",
    "\n",
    "sbis = pd.concat(dfs, ignore_index=True)\n",
    "sbis.columns = sbis_names\n",
    "sbis.columns = [c.replace(' ', '_') for c in sbis.columns]  # Замена пробелов в названиях столбцов на \"_\"\n",
    "\n",
    "# Загрузка данных из папки \"Аптеки\"\n",
    "apteka_folder = \"Аптеки/csv/correct/\"\n",
    "apteka_files = os.listdir(apteka_folder)\n",
    "\n",
    "# Обработка каждого файла из папки \"Аптеки\"\n",
    "for file in apteka_files:\n",
    "    if 'csv' not in file:\n",
    "        continue\n",
    "\n",
    "    # Чтение CSV-файла\n",
    "    apteka = pd.read_csv(os.path.join(apteka_folder, file), sep=\";\", encoding=\"windows-1251\")\n",
    "    \n",
    "    # Добавление новых столбцов\n",
    "    apteka[\"Номер счет-фактуры\"] = \"\"\n",
    "    apteka[\"Сумма счет-фактуры\"] = \"\"\n",
    "    apteka[\"Дата счет-фактуры\"] = \"\"\n",
    "    apteka[\"Сравнение дат\"] = \"\"\n",
    "\n",
    "    # Типы документов для фильтрации\n",
    "    docs = [\"СчФктр\", \"УпдДоп\", \"УпдСчфДоп\", \"ЭДОНакл\"]\n",
    "\n",
    "    # Обработка каждой строки в DataFrame\n",
    "    for i, row in apteka.iterrows():\n",
    "        nakl = row[\"Номер накладной\"]\n",
    "\n",
    "        # Корректировка номера накладной для поставщика \"ЕАПТЕКА\"\n",
    "        if 'ЕАПТЕКА' in row[\"Поставщик\"]:\n",
    "            nakl += \"/15\"\n",
    "\n",
    "        # Поиск соответствующих записей в данных СБИС\n",
    "        records = sbis[sbis.Номер.values == nakl]\n",
    "        records = records[records.Тип_документа.isin(docs)]\n",
    "\n",
    "        if records.empty:\n",
    "            continue\n",
    "\n",
    "        # Извлечение данных из первой найденной записи\n",
    "        invoice = records.iloc[0][\"Номер\"]\n",
    "        summ = records.iloc[0][\"Сумма\"]\n",
    "        date = records.iloc[0][\"Дата\"][1]\n",
    "        date = datetime.strptime(date, \"%d.%m.%y\").strftime(\"%d.%m.%Y\")\n",
    "\n",
    "        # Заполнение данных в DataFrame\n",
    "        apteka.at[i, \"Номер счет-фактуры\"] = invoice\n",
    "        apteka.at[i, \"Сумма счет-фактуры\"] = summ\n",
    "        apteka.at[i, \"Дата счет-фактуры\"] = date\n",
    "        apteka.at[i, \"Сравнение дат\"] = \"\" if (date == apteka.at[i, 'Дата накладной']) else \"Не совпадает!\"\n",
    "\n",
    "    # Выбор и упорядочивание столбцов для сохранения\n",
    "    apteka_columns = [\n",
    "        '№ п/п', 'Штрих-код партии', 'Наименование товара', 'Поставщик', 'Дата приходного документа', \n",
    "        'Номер приходного документа', 'Дата накладной', 'Номер накладной', 'Номер счет-фактуры', \n",
    "        'Сумма счет-фактуры', 'Кол-во', 'Сумма в закупочных ценах без НДС', 'Ставка НДС поставщика', \n",
    "        'Сумма НДС', 'Сумма в закупочных ценах с НДС', 'Дата счет-фактуры', 'Сравнение дат'\n",
    "    ]\n",
    "\n",
    "    apteka = apteka[apteka_columns]\n",
    "\n",
    "    # Сохранение результата в Excel\n",
    "    apteka.to_excel(f\"{result_path}{file.split('.csv')[0]} - результат.xlsx\", index=False)\n",
    "    print(f'{file} Обработан!')"
   ]
  }
 ],
 "metadata": {
  "kernelspec": {
   "display_name": "Python 3",
   "language": "python",
   "name": "python3"
  },
  "language_info": {
   "codemirror_mode": {
    "name": "ipython",
    "version": 3
   },
   "file_extension": ".py",
   "mimetype": "text/x-python",
   "name": "python",
   "nbconvert_exporter": "python",
   "pygments_lexer": "ipython3",
   "version": "3.12.7"
  }
 },
 "nbformat": 4,
 "nbformat_minor": 2
}
